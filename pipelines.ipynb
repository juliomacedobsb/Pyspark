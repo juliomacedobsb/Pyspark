{
  "cells": [
    {
      "cell_type": "markdown",
      "source": [
        "Biblioteca Pipeline do PySpark.ml oferece uma forma eficiente e escalável de organizar e executar uma sequência de etapas de transformação de dados e ajuste de modelo em um ambiente distribuído"
      ],
      "metadata": {
        "id": "Whu-diGnm2OV"
      }
    },
    {
      "cell_type": "code",
      "execution_count": null,
      "metadata": {
        "id": "HRZyqMQzlF_1"
      },
      "outputs": [],
      "source": [
        "import pyspark"
      ]
    },
    {
      "cell_type": "code",
      "execution_count": null,
      "metadata": {
        "id": "7ztSq-qxlF_3"
      },
      "outputs": [],
      "source": [
        "import findspark\n",
        "findspark.init()"
      ]
    },
    {
      "cell_type": "code",
      "execution_count": null,
      "metadata": {
        "id": "exAWvzdtlF_4"
      },
      "outputs": [],
      "source": [
        "from pyspark.sql import SparkSession\n",
        "spark = SparkSession.builder.appName(\"Nome do aplicativo\").getOrCreate()\n"
      ]
    },
    {
      "cell_type": "code",
      "execution_count": null,
      "metadata": {
        "id": "1XqPHzJ_lF_5"
      },
      "outputs": [],
      "source": [
        "from pyspark.ml.regression import LinearRegression, RandomForestRegressor"
      ]
    },
    {
      "cell_type": "code",
      "execution_count": null,
      "metadata": {
        "id": "0N0b7V2ZlF_5"
      },
      "outputs": [],
      "source": [
        "from pyspark.ml.feature import VectorAssembler"
      ]
    },
    {
      "cell_type": "code",
      "source": [
        "from pyspark.ml import Pipeline"
      ],
      "metadata": {
        "id": "1vGXZ1HzmsCl"
      },
      "execution_count": null,
      "outputs": []
    },
    {
      "cell_type": "code",
      "execution_count": null,
      "metadata": {
        "id": "4lO76IqslF_5"
      },
      "outputs": [],
      "source": [
        "carros_temp = spark.read.csv(\"/home/cliente/download/Carros.csv\", inferSchema=True, header=True, sep=\";\")\n"
      ]
    },
    {
      "cell_type": "code",
      "execution_count": null,
      "metadata": {
        "id": "pxX5GiB-lF_6"
      },
      "outputs": [],
      "source": [
        "carros = carros_temp.select(\"consumo\", \"cilindros\", \"cilindradas\", \"hp\")"
      ]
    },
    {
      "cell_type": "code",
      "execution_count": null,
      "metadata": {
        "id": "BpOtb3f-lF_6"
      },
      "outputs": [],
      "source": [
        "veccaracteristicas = VectorAssembler(inputCols=[(\"consumo\"), (\"cilindros\"), (\"cilindradas\")], outputCol=\"caracteristicas\")"
      ]
    },
    {
      "cell_type": "code",
      "execution_count": null,
      "metadata": {
        "id": "cKyZdCKslF_6"
      },
      "outputs": [],
      "source": [
        "carros_treino = veccaracteristicas.transform(carros)"
      ]
    },
    {
      "cell_type": "code",
      "execution_count": null,
      "metadata": {
        "id": "IQwNounwlF_7",
        "outputId": "52750c4b-f54e-45fb-a7f0-633724fb3678"
      },
      "outputs": [
        {
          "name": "stdout",
          "output_type": "stream",
          "text": [
            "+-------+---------+-----------+---+-----------------+\n",
            "|consumo|cilindros|cilindradas| hp|  caracteristicas|\n",
            "+-------+---------+-----------+---+-----------------+\n",
            "|     21|        6|        160|110| [21.0,6.0,160.0]|\n",
            "|     21|        6|        160|110| [21.0,6.0,160.0]|\n",
            "|    228|        4|        108| 93|[228.0,4.0,108.0]|\n",
            "+-------+---------+-----------+---+-----------------+\n",
            "only showing top 3 rows\n",
            "\n"
          ]
        }
      ],
      "source": [
        "carros_treino.show(3)"
      ]
    },
    {
      "cell_type": "code",
      "execution_count": null,
      "metadata": {
        "id": "2ED1bOWWlF_8"
      },
      "outputs": [],
      "source": [
        "reglin = LinearRegression(featuresCol=\"caracteristicas\",labelCol=\"hp\")"
      ]
    },
    {
      "cell_type": "code",
      "execution_count": null,
      "metadata": {
        "id": "hBQmhZBtlF_8"
      },
      "outputs": [],
      "source": [
        "modelo = reglin.fit(carros_treino)"
      ]
    },
    {
      "cell_type": "code",
      "execution_count": null,
      "metadata": {
        "id": "ehl0GgZolF_9"
      },
      "outputs": [],
      "source": [
        "from pyspark.ml import Pipeline"
      ]
    },
    {
      "cell_type": "code",
      "execution_count": null,
      "metadata": {
        "id": "QfHlOiCYlF_9"
      },
      "outputs": [],
      "source": [
        "pipeline = Pipeline(stages=[veccaracteristicas,reglin])"
      ]
    },
    {
      "cell_type": "code",
      "execution_count": null,
      "metadata": {
        "id": "vyuODuXllF_9"
      },
      "outputs": [],
      "source": [
        "pipelineModel = pipeline.fit(carros)"
      ]
    },
    {
      "cell_type": "code",
      "execution_count": null,
      "metadata": {
        "id": "B7ndntA8lF_9"
      },
      "outputs": [],
      "source": [
        "previsao = pipelineModel.transform(carros)"
      ]
    },
    {
      "cell_type": "code",
      "execution_count": null,
      "metadata": {
        "id": "2_hL3ldulF_-",
        "outputId": "abefcf63-2774-4796-83a9-ba4af951fd54"
      },
      "outputs": [
        {
          "name": "stdout",
          "output_type": "stream",
          "text": [
            "+-------+---------+-----------+---+------------------+------------------+\n",
            "|consumo|cilindros|cilindradas| hp|   caracteristicas|        prediction|\n",
            "+-------+---------+-----------+---+------------------+------------------+\n",
            "|     21|        6|        160|110|  [21.0,6.0,160.0]|162.32154816816646|\n",
            "|     21|        6|        160|110|  [21.0,6.0,160.0]|162.32154816816646|\n",
            "|    228|        4|        108| 93| [228.0,4.0,108.0]| 82.51715587712931|\n",
            "|    214|        6|        258|110| [214.0,6.0,258.0]|141.86680518718754|\n",
            "|    187|        8|        360|175| [187.0,8.0,360.0]|202.93528239714834|\n",
            "|    181|        6|        225|105| [181.0,6.0,225.0]| 145.4980634611832|\n",
            "|    143|        8|        360|245| [143.0,8.0,360.0]|   207.41448530972|\n",
            "|    244|        4|       1467| 62|[244.0,4.0,1467.0]| 69.69282676584851|\n",
            "|    228|        4|       1408| 95|[228.0,4.0,1408.0]| 71.80767356085781|\n",
            "|    192|        6|       1676|123|[192.0,6.0,1676.0]|132.42483285541724|\n",
            "|    178|        6|       1676|123|[178.0,6.0,1676.0]|133.85003378214458|\n",
            "|    164|        8|       2758|180|[164.0,8.0,2758.0]|185.52180807776818|\n",
            "|    173|        8|       2758|180|[173.0,8.0,2758.0]|184.60560748201488|\n",
            "|    152|        8|       2758|180|[152.0,8.0,2758.0]| 186.7434088721059|\n",
            "|    104|        8|        472|205| [104.0,8.0,472.0]| 210.4620247994542|\n",
            "|    104|        8|        460|215| [104.0,8.0,460.0]|210.56088155929672|\n",
            "|    147|        8|        440|230| [147.0,8.0,440.0]|206.34823997932406|\n",
            "|    324|        4|        787| 66| [324.0,4.0,787.0]| 67.15070452800569|\n",
            "|    304|        4|        757| 52| [304.0,4.0,757.0]| 69.43384775150815|\n",
            "|    339|        4|        711| 65| [339.0,4.0,711.0]| 66.24979634741939|\n",
            "+-------+---------+-----------+---+------------------+------------------+\n",
            "only showing top 20 rows\n",
            "\n"
          ]
        }
      ],
      "source": [
        "previsao.show()"
      ]
    },
    {
      "cell_type": "code",
      "execution_count": null,
      "metadata": {
        "id": "XFn7uSmrlF_-"
      },
      "outputs": [],
      "source": []
    }
  ],
  "metadata": {
    "kernelspec": {
      "display_name": "Python 3",
      "language": "python",
      "name": "python3"
    },
    "language_info": {
      "codemirror_mode": {
        "name": "ipython",
        "version": 3
      },
      "file_extension": ".py",
      "mimetype": "text/x-python",
      "name": "python",
      "nbconvert_exporter": "python",
      "pygments_lexer": "ipython3",
      "version": "3.7.6"
    },
    "colab": {
      "provenance": []
    }
  },
  "nbformat": 4,
  "nbformat_minor": 0
}