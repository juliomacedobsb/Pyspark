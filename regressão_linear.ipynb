{
  "cells": [
    {
      "cell_type": "code",
      "execution_count": null,
      "metadata": {
        "id": "OBufVDEt7QxC",
        "outputId": "0631ba6a-7d0c-46ce-b7ca-fcbb333f05a4"
      },
      "outputs": [
        {
          "name": "stdout",
          "output_type": "stream",
          "text": [
            "Collecting package metadata (current_repodata.json): done\n",
            "Solving environment: done\n",
            "\n",
            "\n",
            "==> WARNING: A newer version of conda exists. <==\n",
            "  current version: 22.9.0\n",
            "  latest version: 23.3.1\n",
            "\n",
            "Please update conda by running\n",
            "\n",
            "    $ conda update -n base -c defaults conda\n",
            "\n",
            "\n",
            "\n",
            "# All requested packages already installed.\n",
            "\n",
            "Retrieving notices: ...working... done\n",
            "\n",
            "Note: you may need to restart the kernel to use updated packages.\n"
          ]
        }
      ],
      "source": [
        "conda install pyspark\n"
      ]
    },
    {
      "cell_type": "code",
      "execution_count": null,
      "metadata": {
        "id": "EtQ4vJfu7QxG"
      },
      "outputs": [],
      "source": [
        "import pyspark"
      ]
    },
    {
      "cell_type": "code",
      "execution_count": null,
      "metadata": {
        "id": "9LImoxUp7QxH"
      },
      "outputs": [],
      "source": [
        "import findspark\n",
        "findspark.init()\n"
      ]
    },
    {
      "cell_type": "code",
      "execution_count": null,
      "metadata": {
        "id": "zHUuXNvN7QxH"
      },
      "outputs": [],
      "source": [
        "from pyspark.sql import SparkSession\n",
        "\n",
        "spark = SparkSession.builder.getOrCreate()\n"
      ]
    },
    {
      "cell_type": "code",
      "execution_count": null,
      "metadata": {
        "id": "Y_wR5dFT7QxI",
        "outputId": "837575a3-0ab6-464d-c0ae-3297daa14efd"
      },
      "outputs": [
        {
          "data": {
            "text/html": [
              "\n",
              "            <div>\n",
              "                <p><b>SparkSession - in-memory</b></p>\n",
              "                \n",
              "        <div>\n",
              "            <p><b>SparkContext</b></p>\n",
              "\n",
              "            <p><a href=\"http://192.168.15.7:4045\">Spark UI</a></p>\n",
              "\n",
              "            <dl>\n",
              "              <dt>Version</dt>\n",
              "                <dd><code>v3.3.2</code></dd>\n",
              "              <dt>Master</dt>\n",
              "                <dd><code>local[*]</code></dd>\n",
              "              <dt>AppName</dt>\n",
              "                <dd><code>pyspark-shell</code></dd>\n",
              "            </dl>\n",
              "        </div>\n",
              "        \n",
              "            </div>\n",
              "        "
            ],
            "text/plain": [
              "<pyspark.sql.session.SparkSession at 0x7f9168579690>"
            ]
          },
          "execution_count": 5,
          "metadata": {},
          "output_type": "execute_result"
        }
      ],
      "source": [
        "spark"
      ]
    },
    {
      "cell_type": "code",
      "execution_count": null,
      "metadata": {
        "id": "MXnHkPJp7QxJ"
      },
      "outputs": [],
      "source": [
        "from pyspark.sql.types import *"
      ]
    },
    {
      "cell_type": "code",
      "execution_count": null,
      "metadata": {
        "id": "Y2KTiFAB7QxJ"
      },
      "outputs": [],
      "source": [
        "from pyspark.sql.functions import *"
      ]
    },
    {
      "cell_type": "code",
      "execution_count": null,
      "metadata": {
        "id": "2GQt83xp7QxJ"
      },
      "outputs": [],
      "source": [
        "from pyspark.ml.regression import LinearRegression, RandomForestRegressor\n",
        "from pyspark.ml.evaluation import RegressionEvaluator"
      ]
    },
    {
      "cell_type": "code",
      "execution_count": null,
      "metadata": {
        "id": "oiBSDGC07QxK"
      },
      "outputs": [],
      "source": [
        "from pyspark.ml.feature import VectorAssembler"
      ]
    },
    {
      "cell_type": "code",
      "execution_count": null,
      "metadata": {
        "id": "j-IzgqBo7QxL",
        "outputId": "dcfcd202-6930-47e2-b4d6-2b949935e8fd"
      },
      "outputs": [
        {
          "name": "stdout",
          "output_type": "stream",
          "text": [
            "+-------+---------+-----------+---------------+----+-----+---------+-----------+-------+-----------+---+\n",
            "|Consumo|Cilindros|Cilindradas|RelEixoTraseiro|Peso|Tempo|TipoMotor|Transmissao|Marchas|Carburadors| HP|\n",
            "+-------+---------+-----------+---------------+----+-----+---------+-----------+-------+-----------+---+\n",
            "|     21|        6|        160|             39| 262| 1646|        0|          1|      4|          4|110|\n",
            "|     21|        6|        160|             39|2875| 1702|        0|          1|      4|          4|110|\n",
            "|    228|        4|        108|            385| 232| 1861|        1|          1|      4|          1| 93|\n",
            "|    214|        6|        258|            308|3215| 1944|        1|          0|      3|          1|110|\n",
            "|    187|        8|        360|            315| 344| 1702|        0|          0|      3|          2|175|\n",
            "+-------+---------+-----------+---------------+----+-----+---------+-----------+-------+-----------+---+\n",
            "only showing top 5 rows\n",
            "\n"
          ]
        }
      ],
      "source": [
        "carros_temp = spark.read.csv(\"/home/cliente/download/Carros.csv\", inferSchema=True, header=True, sep=\";\")\n",
        "carros_temp.show(5)"
      ]
    },
    {
      "cell_type": "code",
      "execution_count": null,
      "metadata": {
        "id": "DU5_Wel47QxM",
        "outputId": "c1f6c006-a46a-41da-d9ef-9d7fae0f41a7"
      },
      "outputs": [
        {
          "name": "stdout",
          "output_type": "stream",
          "text": [
            "+-------+---------+-----------+---+\n",
            "|consumo|cilindros|cilindradas| hp|\n",
            "+-------+---------+-----------+---+\n",
            "|     21|        6|        160|110|\n",
            "|     21|        6|        160|110|\n",
            "|    228|        4|        108| 93|\n",
            "|    214|        6|        258|110|\n",
            "|    187|        8|        360|175|\n",
            "+-------+---------+-----------+---+\n",
            "only showing top 5 rows\n",
            "\n"
          ]
        }
      ],
      "source": [
        "carros = carros_temp.select(\"consumo\", \"cilindros\", \"cilindradas\", \"hp\")\n",
        "carros.show(5)"
      ]
    },
    {
      "cell_type": "code",
      "execution_count": null,
      "metadata": {
        "id": "-CV761Ul7QxM"
      },
      "outputs": [],
      "source": [
        "veccaracteristicas = VectorAssembler(inputCols=[(\"consumo\"), (\"cilindros\"), (\"cilindradas\")], outputCol=\"caracteristicas\")"
      ]
    },
    {
      "cell_type": "code",
      "execution_count": null,
      "metadata": {
        "id": "BXxao_GE7QxN"
      },
      "outputs": [],
      "source": [
        "carros = veccaracteristicas.transform(carros)"
      ]
    },
    {
      "cell_type": "code",
      "execution_count": null,
      "metadata": {
        "id": "I7vhxvso7QxN",
        "outputId": "52524c9c-b581-45eb-8fdc-1c0a984ea273"
      },
      "outputs": [
        {
          "name": "stdout",
          "output_type": "stream",
          "text": [
            "+-------+---------+-----------+---+-----------------+\n",
            "|consumo|cilindros|cilindradas| hp|  caracteristicas|\n",
            "+-------+---------+-----------+---+-----------------+\n",
            "|     21|        6|        160|110| [21.0,6.0,160.0]|\n",
            "|     21|        6|        160|110| [21.0,6.0,160.0]|\n",
            "|    228|        4|        108| 93|[228.0,4.0,108.0]|\n",
            "|    214|        6|        258|110|[214.0,6.0,258.0]|\n",
            "|    187|        8|        360|175|[187.0,8.0,360.0]|\n",
            "+-------+---------+-----------+---+-----------------+\n",
            "only showing top 5 rows\n",
            "\n"
          ]
        }
      ],
      "source": [
        "carros.show(5)"
      ]
    },
    {
      "cell_type": "code",
      "execution_count": null,
      "metadata": {
        "id": "J97gbgF57QxO"
      },
      "outputs": [],
      "source": [
        "carrosTreino, carrosTeste = carros.randomSplit([0.7,0.3])"
      ]
    },
    {
      "cell_type": "code",
      "execution_count": null,
      "metadata": {
        "id": "A-3n2JhD7QxO",
        "outputId": "5dbd6022-4eb6-47a9-ccbf-be05aa369aa1"
      },
      "outputs": [
        {
          "name": "stdout",
          "output_type": "stream",
          "text": [
            "21\n"
          ]
        }
      ],
      "source": [
        "print(carrosTreino.count())"
      ]
    },
    {
      "cell_type": "code",
      "execution_count": null,
      "metadata": {
        "id": "qiHnhhNM7QxP",
        "outputId": "aec01933-25b0-4033-9a08-9d8e25dcfd73"
      },
      "outputs": [
        {
          "name": "stdout",
          "output_type": "stream",
          "text": [
            "11\n"
          ]
        }
      ],
      "source": [
        "print(carrosTeste.count())"
      ]
    },
    {
      "cell_type": "code",
      "execution_count": null,
      "metadata": {
        "id": "qwPMHjyL7QxP",
        "outputId": "5048d094-8f21-449a-c570-fbac8c8799b6"
      },
      "outputs": [
        {
          "name": "stderr",
          "output_type": "stream",
          "text": [
            "Exception ignored in: <function JavaWrapper.__del__ at 0x7f9140a16e60>\n",
            "Traceback (most recent call last):\n",
            "  File \"/home/cliente/anaconda3/lib/python3.7/site-packages/pyspark/ml/wrapper.py\", line 39, in __del__\n",
            "    if SparkContext._active_spark_context and self._java_obj is not None:\n",
            "AttributeError: 'LinearRegression' object has no attribute '_java_obj'\n",
            "Exception ignored in: <function JavaWrapper.__del__ at 0x7f9140a16e60>\n",
            "Traceback (most recent call last):\n",
            "  File \"/home/cliente/anaconda3/lib/python3.7/site-packages/pyspark/ml/wrapper.py\", line 39, in __del__\n",
            "    if SparkContext._active_spark_context and self._java_obj is not None:\n",
            "AttributeError: 'LinearRegression' object has no attribute '_java_obj'\n",
            "Exception ignored in: <function JavaWrapper.__del__ at 0x7f9140a16e60>\n",
            "Traceback (most recent call last):\n",
            "  File \"/home/cliente/anaconda3/lib/python3.7/site-packages/pyspark/ml/wrapper.py\", line 39, in __del__\n",
            "    if SparkContext._active_spark_context and self._java_obj is not None:\n",
            "AttributeError: 'LinearRegression' object has no attribute '_java_obj'\n",
            "Exception ignored in: <function JavaWrapper.__del__ at 0x7f9140a16e60>\n",
            "Traceback (most recent call last):\n",
            "  File \"/home/cliente/anaconda3/lib/python3.7/site-packages/pyspark/ml/wrapper.py\", line 39, in __del__\n",
            "    if SparkContext._active_spark_context and self._java_obj is not None:\n",
            "AttributeError: 'LinearRegression' object has no attribute '_java_obj'\n",
            "Exception ignored in: <function JavaWrapper.__del__ at 0x7f9140a16e60>\n",
            "Traceback (most recent call last):\n",
            "  File \"/home/cliente/anaconda3/lib/python3.7/site-packages/pyspark/ml/wrapper.py\", line 39, in __del__\n",
            "    if SparkContext._active_spark_context and self._java_obj is not None:\n",
            "AttributeError: 'LinearRegression' object has no attribute '_java_obj'\n"
          ]
        }
      ],
      "source": [
        "reglin = LinearRegression(featuresCol=\"caracteristicas\",labelCol=\"hp\")\n",
        "modelo = reglin.fit(carrosTreino)"
      ]
    },
    {
      "cell_type": "code",
      "execution_count": null,
      "metadata": {
        "id": "b_grrW-v7QxQ"
      },
      "outputs": [],
      "source": [
        "previsao = modelo.transform(carrosTeste)"
      ]
    },
    {
      "cell_type": "code",
      "execution_count": null,
      "metadata": {
        "id": "d9xwqdVi7QxQ",
        "outputId": "7a0deaeb-41dd-4253-c352-6563a3c9f0df"
      },
      "outputs": [
        {
          "name": "stdout",
          "output_type": "stream",
          "text": [
            "+-------+---------+-----------+---+-----------------+------------------+\n",
            "|consumo|cilindros|cilindradas| hp|  caracteristicas|        prediction|\n",
            "+-------+---------+-----------+---+-----------------+------------------+\n",
            "|     21|        6|        160|110| [21.0,6.0,160.0]|238.94617278700588|\n",
            "|     21|        6|        160|110| [21.0,6.0,160.0]|238.94617278700588|\n",
            "|     26|        4|       1203| 91|[26.0,4.0,1203.0]| 185.7765010586709|\n",
            "|    133|        8|        350|245|[133.0,8.0,350.0]|219.75249140225156|\n",
            "|    155|        8|        318|150|[155.0,8.0,318.0]|209.10245426804278|\n",
            "+-------+---------+-----------+---+-----------------+------------------+\n",
            "only showing top 5 rows\n",
            "\n"
          ]
        }
      ],
      "source": [
        "previsao.show(5)"
      ]
    },
    {
      "cell_type": "code",
      "execution_count": null,
      "metadata": {
        "id": "ilofT4bb7QxR",
        "outputId": "17d13434-fa26-429d-fde3-eb2a57b39e19"
      },
      "outputs": [
        {
          "name": "stderr",
          "output_type": "stream",
          "text": [
            "Exception ignored in: <function JavaWrapper.__del__ at 0x7f9140a16e60>\n",
            "Traceback (most recent call last):\n",
            "  File \"/home/cliente/anaconda3/lib/python3.7/site-packages/pyspark/ml/wrapper.py\", line 39, in __del__\n",
            "    if SparkContext._active_spark_context and self._java_obj is not None:\n",
            "AttributeError: 'LinearRegression' object has no attribute '_java_obj'\n",
            "Exception ignored in: <function JavaWrapper.__del__ at 0x7f9140a16e60>\n",
            "Traceback (most recent call last):\n",
            "  File \"/home/cliente/anaconda3/lib/python3.7/site-packages/pyspark/ml/wrapper.py\", line 39, in __del__\n",
            "    if SparkContext._active_spark_context and self._java_obj is not None:\n",
            "AttributeError: 'LinearRegression' object has no attribute '_java_obj'\n"
          ]
        }
      ],
      "source": [
        "avaliar = RegressionEvaluator(predictionCol=\"prediction\", labelCol=\"hp\", metricName=\"rmse\")"
      ]
    },
    {
      "cell_type": "code",
      "execution_count": null,
      "metadata": {
        "id": "4p1tpUVl7QxR"
      },
      "outputs": [],
      "source": [
        "rmse = avaliar.evaluate(previsao)"
      ]
    },
    {
      "cell_type": "code",
      "execution_count": null,
      "metadata": {
        "id": "9fSnJNOE7QxS",
        "outputId": "b320ee4a-5594-4d0d-f9ce-1f5d860b9c6d"
      },
      "outputs": [
        {
          "name": "stdout",
          "output_type": "stream",
          "text": [
            "68.90558239826922\n"
          ]
        }
      ],
      "source": [
        "print(rmse)"
      ]
    },
    {
      "cell_type": "code",
      "execution_count": null,
      "metadata": {
        "id": "NAUoDImR7QxS"
      },
      "outputs": [],
      "source": [
        "rfreg = RandomForestRegressor(featuresCol=\"caracteristicas\", labelCol=\"hp\")\n"
      ]
    },
    {
      "cell_type": "code",
      "execution_count": null,
      "metadata": {
        "id": "ouNN5-pA7QxS"
      },
      "outputs": [],
      "source": [
        "modelo2 = rfreg.fit(carrosTreino)"
      ]
    },
    {
      "cell_type": "code",
      "execution_count": null,
      "metadata": {
        "id": "HuVsNzjI7QxS"
      },
      "outputs": [],
      "source": [
        "previsao2 = modelo2.transform(carrosTeste)"
      ]
    },
    {
      "cell_type": "code",
      "execution_count": null,
      "metadata": {
        "id": "jw_tqP0V7QxT",
        "outputId": "ee53a63e-24db-4811-de3e-01ba60fb9398"
      },
      "outputs": [
        {
          "name": "stdout",
          "output_type": "stream",
          "text": [
            "+-------+---------+-----------+---+-----------------+------------------+\n",
            "|consumo|cilindros|cilindradas| hp|  caracteristicas|        prediction|\n",
            "+-------+---------+-----------+---+-----------------+------------------+\n",
            "|     21|        6|        160|110| [21.0,6.0,160.0]|149.21855644355645|\n",
            "|     21|        6|        160|110| [21.0,6.0,160.0]|149.21855644355645|\n",
            "|     26|        4|       1203| 91|[26.0,4.0,1203.0]|  129.314010989011|\n",
            "|    133|        8|        350|245|[133.0,8.0,350.0]|218.07815919374738|\n",
            "|    155|        8|        318|150|[155.0,8.0,318.0]|196.89861373920195|\n",
            "+-------+---------+-----------+---+-----------------+------------------+\n",
            "only showing top 5 rows\n",
            "\n"
          ]
        }
      ],
      "source": [
        "previsao2.show(5)"
      ]
    },
    {
      "cell_type": "code",
      "execution_count": null,
      "metadata": {
        "id": "P8UJfjcD7QxT"
      },
      "outputs": [],
      "source": [
        "rmse2 = avaliar.evaluate(previsao2)"
      ]
    },
    {
      "cell_type": "code",
      "execution_count": null,
      "metadata": {
        "id": "CdAJVpjO7QxT",
        "outputId": "25677ee8-54a3-48d1-86fb-42229d792f0d"
      },
      "outputs": [
        {
          "name": "stdout",
          "output_type": "stream",
          "text": [
            "35.718824322565204\n"
          ]
        }
      ],
      "source": [
        "print(rmse2)"
      ]
    },
    {
      "cell_type": "code",
      "execution_count": null,
      "metadata": {
        "id": "WxbVKANq7QxU",
        "outputId": "2b0c4726-c320-40d9-b85f-04f668b495c6"
      },
      "outputs": [
        {
          "name": "stdout",
          "output_type": "stream",
          "text": [
            "68.90558239826922\n"
          ]
        }
      ],
      "source": [
        "print(rmse)"
      ]
    },
    {
      "cell_type": "code",
      "execution_count": null,
      "metadata": {
        "id": "E-D5iDgO7QxU"
      },
      "outputs": [],
      "source": []
    },
    {
      "cell_type": "code",
      "execution_count": null,
      "metadata": {
        "id": "5mbs3ymo7QxU"
      },
      "outputs": [],
      "source": []
    },
    {
      "cell_type": "code",
      "execution_count": null,
      "metadata": {
        "id": "6FoZtc6_7QxU"
      },
      "outputs": [],
      "source": []
    },
    {
      "cell_type": "code",
      "execution_count": null,
      "metadata": {
        "id": "-pwtJ9r77QxU"
      },
      "outputs": [],
      "source": []
    },
    {
      "cell_type": "code",
      "execution_count": null,
      "metadata": {
        "id": "1OY8c4p27QxV"
      },
      "outputs": [],
      "source": []
    },
    {
      "cell_type": "code",
      "execution_count": null,
      "metadata": {
        "id": "W-bh_a487QxV"
      },
      "outputs": [],
      "source": []
    },
    {
      "cell_type": "code",
      "execution_count": null,
      "metadata": {
        "id": "s--HI0bJ7QxV"
      },
      "outputs": [],
      "source": []
    },
    {
      "cell_type": "code",
      "execution_count": null,
      "metadata": {
        "id": "OIMfahtL7QxV"
      },
      "outputs": [],
      "source": []
    },
    {
      "cell_type": "code",
      "execution_count": null,
      "metadata": {
        "id": "Vrr-0S_97QxV"
      },
      "outputs": [],
      "source": []
    }
  ],
  "metadata": {
    "kernelspec": {
      "display_name": "Python 3",
      "language": "python",
      "name": "python3"
    },
    "language_info": {
      "codemirror_mode": {
        "name": "ipython",
        "version": 3
      },
      "file_extension": ".py",
      "mimetype": "text/x-python",
      "name": "python",
      "nbconvert_exporter": "python",
      "pygments_lexer": "ipython3",
      "version": "3.7.6"
    },
    "colab": {
      "provenance": []
    }
  },
  "nbformat": 4,
  "nbformat_minor": 0
}