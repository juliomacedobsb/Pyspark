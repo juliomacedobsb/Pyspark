{
  "cells": [
    {
      "cell_type": "code",
      "execution_count": null,
      "metadata": {
        "id": "k1cjcR-Y8BAm"
      },
      "outputs": [],
      "source": [
        "import pyspark\n"
      ]
    },
    {
      "cell_type": "code",
      "execution_count": null,
      "metadata": {
        "id": "12aX9HE78BAp"
      },
      "outputs": [],
      "source": [
        "import findspark\n",
        "findspark.init()"
      ]
    },
    {
      "cell_type": "code",
      "execution_count": null,
      "metadata": {
        "id": "x19W3ZpR8BAp"
      },
      "outputs": [],
      "source": [
        "from pyspark.sql import SparkSession\n",
        "spark = SparkSession.builder.appName(\"Nome do aplicativo\").getOrCreate()\n"
      ]
    },
    {
      "cell_type": "code",
      "execution_count": null,
      "metadata": {
        "id": "sUfGjGpj8BAq"
      },
      "outputs": [],
      "source": [
        "from pyspark.ml.feature import RFormula"
      ]
    },
    {
      "cell_type": "code",
      "execution_count": null,
      "metadata": {
        "id": "iohk4jV18BAr"
      },
      "outputs": [],
      "source": [
        "from pyspark.ml.classification import DecisionTreeClassifier"
      ]
    },
    {
      "cell_type": "code",
      "execution_count": null,
      "metadata": {
        "id": "K40Y-UBc8BAr"
      },
      "outputs": [],
      "source": [
        "from pyspark.ml.evaluation import BinaryClassificationEvaluator"
      ]
    },
    {
      "cell_type": "code",
      "execution_count": null,
      "metadata": {
        "id": "xDmAFaPB8BAr"
      },
      "outputs": [],
      "source": [
        "churn = spark.read.csv(\"/home/cliente/download/Churn.csv\", inferSchema=True, header=True, sep=\";\")"
      ]
    },
    {
      "cell_type": "code",
      "execution_count": null,
      "metadata": {
        "id": "8ghRhQ2G8BAs",
        "outputId": "736b247a-6fe4-4132-dda2-d77673f15dc1"
      },
      "outputs": [
        {
          "name": "stdout",
          "output_type": "stream",
          "text": [
            "+-----------+---------+------+---+------+--------+-------------+---------+--------------+---------------+------+\n",
            "|CreditScore|Geography|Gender|Age|Tenure| Balance|NumOfProducts|HasCrCard|IsActiveMember|EstimatedSalary|Exited|\n",
            "+-----------+---------+------+---+------+--------+-------------+---------+--------------+---------------+------+\n",
            "|        619|   France|Female| 42|     2|       0|            1|        1|             1|       10134888|     1|\n",
            "|        608|    Spain|Female| 41|     1| 8380786|            1|        0|             1|       11254258|     0|\n",
            "|        502|   France|Female| 42|     8| 1596608|            3|        1|             0|       11393157|     1|\n",
            "|        699|   France|Female| 39|     1|       0|            2|        0|             0|        9382663|     0|\n",
            "|        850|    Spain|Female| 43|     2|12551082|            1|        1|             1|         790841|     0|\n",
            "+-----------+---------+------+---+------+--------+-------------+---------+--------------+---------------+------+\n",
            "only showing top 5 rows\n",
            "\n"
          ]
        }
      ],
      "source": [
        "churn.show(5)"
      ]
    },
    {
      "cell_type": "code",
      "execution_count": null,
      "metadata": {
        "id": "4zm427L38BAt"
      },
      "outputs": [],
      "source": [
        "formula = RFormula(formula=\"Exited ~.\", featuresCol=\"features\", labelCol=\"label\", handleInvalid=\"skip\")"
      ]
    },
    {
      "cell_type": "code",
      "execution_count": null,
      "metadata": {
        "id": "DsAvbBJS8BAt"
      },
      "outputs": [],
      "source": [
        "churn_trans = formula.fit(churn).transform(churn).select(\"features\",\"label\")"
      ]
    },
    {
      "cell_type": "code",
      "execution_count": null,
      "metadata": {
        "id": "_iS0t57_8BAu",
        "outputId": "1d948b18-2f51-48fc-cedc-807281be0f9a"
      },
      "outputs": [
        {
          "name": "stdout",
          "output_type": "stream",
          "text": [
            "+----------------------------------------------------------------+-----+\n",
            "|features                                                        |label|\n",
            "+----------------------------------------------------------------+-----+\n",
            "|[619.0,1.0,0.0,0.0,42.0,2.0,0.0,1.0,1.0,1.0,1.0134888E7]        |1.0  |\n",
            "|[608.0,0.0,0.0,0.0,41.0,1.0,8380786.0,1.0,0.0,1.0,1.1254258E7]  |0.0  |\n",
            "|[502.0,1.0,0.0,0.0,42.0,8.0,1596608.0,3.0,1.0,0.0,1.1393157E7]  |1.0  |\n",
            "|(11,[0,1,4,5,7,10],[699.0,1.0,39.0,1.0,2.0,9382663.0])          |0.0  |\n",
            "|[850.0,0.0,0.0,0.0,43.0,2.0,1.2551082E7,1.0,1.0,1.0,790841.0]   |0.0  |\n",
            "|[645.0,0.0,0.0,1.0,44.0,8.0,1.1375578E7,2.0,1.0,0.0,1.4975671E7]|1.0  |\n",
            "|[822.0,1.0,0.0,1.0,50.0,7.0,0.0,2.0,1.0,1.0,100628.0]           |0.0  |\n",
            "|[376.0,0.0,1.0,0.0,29.0,4.0,1.1504674E7,4.0,1.0,0.0,1.1934688E7]|1.0  |\n",
            "|[501.0,1.0,0.0,1.0,44.0,4.0,1.4205107E7,2.0,0.0,1.0,749405.0]   |0.0  |\n",
            "|[684.0,1.0,0.0,1.0,27.0,2.0,1.3460388E7,1.0,1.0,1.0,7172573.0]  |0.0  |\n",
            "|[528.0,1.0,0.0,1.0,31.0,6.0,1.0201672E7,2.0,0.0,0.0,8018112.0]  |0.0  |\n",
            "|[497.0,0.0,0.0,1.0,24.0,3.0,0.0,2.0,1.0,0.0,7639001.0]          |0.0  |\n",
            "|[476.0,1.0,0.0,0.0,34.0,10.0,0.0,2.0,1.0,0.0,2626098.0]         |0.0  |\n",
            "|(11,[0,1,4,5,7,10],[549.0,1.0,25.0,5.0,2.0,1.9085779E7])        |0.0  |\n",
            "|[635.0,0.0,0.0,0.0,35.0,7.0,0.0,2.0,1.0,1.0,6595165.0]          |0.0  |\n",
            "|[616.0,0.0,1.0,1.0,45.0,3.0,1.4312941E7,2.0,0.0,1.0,6432726.0]  |0.0  |\n",
            "|[653.0,0.0,1.0,1.0,58.0,1.0,1.3260288E7,1.0,1.0,0.0,509767.0]   |1.0  |\n",
            "|[549.0,0.0,0.0,0.0,24.0,9.0,0.0,2.0,1.0,1.0,1440641.0]          |0.0  |\n",
            "|(11,[0,3,4,5,7,10],[587.0,1.0,45.0,6.0,1.0,1.5868481E7])        |0.0  |\n",
            "|[726.0,1.0,0.0,0.0,24.0,6.0,0.0,2.0,1.0,1.0,5472403.0]          |0.0  |\n",
            "+----------------------------------------------------------------+-----+\n",
            "only showing top 20 rows\n",
            "\n"
          ]
        }
      ],
      "source": [
        "churn_trans.show(truncate=False)"
      ]
    },
    {
      "cell_type": "code",
      "execution_count": null,
      "metadata": {
        "id": "0p9qQsEC8BAu"
      },
      "outputs": [],
      "source": [
        "churnTreino, churnTeste = churn_trans.randomSplit([0.7,0.3])"
      ]
    },
    {
      "cell_type": "code",
      "execution_count": null,
      "metadata": {
        "id": "OqPM5dpJ8BAu",
        "outputId": "05078bf5-b13f-4eaa-e7b1-423aaa02ba46"
      },
      "outputs": [
        {
          "name": "stdout",
          "output_type": "stream",
          "text": [
            "7063\n"
          ]
        }
      ],
      "source": [
        "print(churnTreino.count())"
      ]
    },
    {
      "cell_type": "code",
      "execution_count": null,
      "metadata": {
        "id": "wX_fI6Qt8BAv",
        "outputId": "0c8492cf-1d92-4068-8d0e-c5033f1867f4"
      },
      "outputs": [
        {
          "name": "stdout",
          "output_type": "stream",
          "text": [
            "2937\n"
          ]
        }
      ],
      "source": [
        "print(churnTeste.count())"
      ]
    },
    {
      "cell_type": "code",
      "execution_count": null,
      "metadata": {
        "id": "GEJ75vLT8BAv"
      },
      "outputs": [],
      "source": [
        "dt = DecisionTreeClassifier(labelCol=\"label\", featuresCol=\"features\")"
      ]
    },
    {
      "cell_type": "code",
      "execution_count": null,
      "metadata": {
        "id": "a4ggqexN8BAv"
      },
      "outputs": [],
      "source": [
        "modelo = dt.fit(churnTreino)"
      ]
    },
    {
      "cell_type": "code",
      "execution_count": null,
      "metadata": {
        "id": "TH1TbCgx8BAw"
      },
      "outputs": [],
      "source": [
        "previsao = modelo.transform(churnTeste)"
      ]
    },
    {
      "cell_type": "code",
      "execution_count": null,
      "metadata": {
        "id": "8Bm7TlWs8BAw",
        "outputId": "684c0cc5-01e1-43fa-8d3b-1b4ad57c9c04"
      },
      "outputs": [
        {
          "name": "stdout",
          "output_type": "stream",
          "text": [
            "+--------------------+-----+--------------+--------------------+----------+\n",
            "|            features|label| rawPrediction|         probability|prediction|\n",
            "+--------------------+-----+--------------+--------------------+----------+\n",
            "|(11,[0,1,3,4,7,10...|  0.0|[4433.0,523.0]|[0.89447134786117...|       0.0|\n",
            "|(11,[0,1,4,5,7,10...|  1.0|  [42.0,229.0]|[0.15498154981549...|       1.0|\n",
            "|(11,[0,1,4,5,7,10...|  0.0|[4433.0,523.0]|[0.89447134786117...|       0.0|\n",
            "|(11,[0,1,4,5,7,10...|  0.0|[4433.0,523.0]|[0.89447134786117...|       0.0|\n",
            "|(11,[0,1,4,5,7,10...|  0.0|[4433.0,523.0]|[0.89447134786117...|       0.0|\n",
            "|(11,[0,1,4,5,7,10...|  0.0|[4433.0,523.0]|[0.89447134786117...|       0.0|\n",
            "|(11,[0,1,4,5,7,10...|  0.0|[4433.0,523.0]|[0.89447134786117...|       0.0|\n",
            "|(11,[0,1,4,5,7,10...|  1.0| [126.0,118.0]|[0.51639344262295...|       0.0|\n",
            "|(11,[0,1,4,5,7,10...|  0.0|[4433.0,523.0]|[0.89447134786117...|       0.0|\n",
            "|(11,[0,1,4,5,7,10...|  1.0|[4433.0,523.0]|[0.89447134786117...|       0.0|\n",
            "|(11,[0,1,4,5,7,10...|  0.0|[4433.0,523.0]|[0.89447134786117...|       0.0|\n",
            "|(11,[0,1,4,5,7,10...|  1.0|    [0.0,30.0]|           [0.0,1.0]|       1.0|\n",
            "|(11,[0,1,4,5,7,10...|  0.0|  [167.0,44.0]|[0.79146919431279...|       0.0|\n",
            "|(11,[0,1,4,5,7,10...|  0.0|[4433.0,523.0]|[0.89447134786117...|       0.0|\n",
            "|(11,[0,1,4,5,7,10...|  1.0| [126.0,118.0]|[0.51639344262295...|       0.0|\n",
            "|(11,[0,1,4,5,7,10...|  0.0|  [167.0,44.0]|[0.79146919431279...|       0.0|\n",
            "|(11,[0,1,4,5,7,10...|  0.0|  [167.0,44.0]|[0.79146919431279...|       0.0|\n",
            "|(11,[0,1,4,5,7,10...|  0.0|[4433.0,523.0]|[0.89447134786117...|       0.0|\n",
            "|(11,[0,1,4,5,7,10...|  0.0|[4433.0,523.0]|[0.89447134786117...|       0.0|\n",
            "|(11,[0,1,4,5,7,10...|  0.0|[4433.0,523.0]|[0.89447134786117...|       0.0|\n",
            "+--------------------+-----+--------------+--------------------+----------+\n",
            "only showing top 20 rows\n",
            "\n"
          ]
        }
      ],
      "source": [
        "previsao.show()"
      ]
    },
    {
      "cell_type": "code",
      "execution_count": null,
      "metadata": {
        "id": "oBlMXKmp8BAw"
      },
      "outputs": [],
      "source": [
        "avaliar = BinaryClassificationEvaluator(rawPredictionCol=\"prediction\", labelCol=\"label\", metricName=\"areaUnderROC\")"
      ]
    },
    {
      "cell_type": "code",
      "execution_count": null,
      "metadata": {
        "id": "U4FG0Qev8BAw"
      },
      "outputs": [],
      "source": [
        "areaunderROC = avaliar.evaluate(previsao)"
      ]
    },
    {
      "cell_type": "code",
      "execution_count": null,
      "metadata": {
        "id": "oUR-yjYM8BAx",
        "outputId": "18ce8835-fdb2-43c4-967d-0dea927e2bed"
      },
      "outputs": [
        {
          "name": "stdout",
          "output_type": "stream",
          "text": [
            "0.7013262868160732\n"
          ]
        }
      ],
      "source": [
        "print(areaunderROC)"
      ]
    },
    {
      "cell_type": "code",
      "execution_count": null,
      "metadata": {
        "id": "8KapIOEm8BAx"
      },
      "outputs": [],
      "source": []
    }
  ],
  "metadata": {
    "kernelspec": {
      "display_name": "Python 3",
      "language": "python",
      "name": "python3"
    },
    "language_info": {
      "codemirror_mode": {
        "name": "ipython",
        "version": 3
      },
      "file_extension": ".py",
      "mimetype": "text/x-python",
      "name": "python",
      "nbconvert_exporter": "python",
      "pygments_lexer": "ipython3",
      "version": "3.7.6"
    },
    "colab": {
      "provenance": []
    }
  },
  "nbformat": 4,
  "nbformat_minor": 0
}