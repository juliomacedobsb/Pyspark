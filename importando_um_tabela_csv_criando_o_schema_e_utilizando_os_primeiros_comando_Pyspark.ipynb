{
  "cells": [
    {
      "cell_type": "code",
      "execution_count": null,
      "metadata": {
        "id": "10hNdDgL6uGB",
        "outputId": "f4367712-3c71-4ffc-a84d-4f57affad5ed"
      },
      "outputs": [
        {
          "name": "stdout",
          "output_type": "stream",
          "text": [
            "Collecting package metadata (current_repodata.json): done\n",
            "Solving environment: done\n",
            "\n",
            "\n",
            "==> WARNING: A newer version of conda exists. <==\n",
            "  current version: 22.9.0\n",
            "  latest version: 23.3.1\n",
            "\n",
            "Please update conda by running\n",
            "\n",
            "    $ conda update -n base -c defaults conda\n",
            "\n",
            "\n",
            "\n",
            "# All requested packages already installed.\n",
            "\n",
            "Retrieving notices: ...working... done\n",
            "\n",
            "Note: you may need to restart the kernel to use updated packages.\n"
          ]
        }
      ],
      "source": [
        "conda install pyspark"
      ]
    },
    {
      "cell_type": "code",
      "execution_count": null,
      "metadata": {
        "id": "d9hkzdKj6uGH"
      },
      "outputs": [],
      "source": [
        "import pyspark"
      ]
    },
    {
      "cell_type": "code",
      "execution_count": null,
      "metadata": {
        "id": "MrakZuS76uGI"
      },
      "outputs": [],
      "source": [
        "import findspark\n",
        "findspark.init()"
      ]
    },
    {
      "cell_type": "code",
      "execution_count": null,
      "metadata": {
        "id": "PJd_AwNO6uGJ"
      },
      "outputs": [],
      "source": [
        "from pyspark.sql import SparkSession\n",
        "spark = SparkSession.builder.appName(\"Nome do aplicativo\").getOrCreate()"
      ]
    },
    {
      "cell_type": "code",
      "execution_count": null,
      "metadata": {
        "id": "WOQ04Fcx6uGJ",
        "outputId": "f2952216-fa2b-4c9f-860f-450f221c9461"
      },
      "outputs": [
        {
          "data": {
            "text/html": [
              "\n",
              "            <div>\n",
              "                <p><b>SparkSession - in-memory</b></p>\n",
              "                \n",
              "        <div>\n",
              "            <p><b>SparkContext</b></p>\n",
              "\n",
              "            <p><a href=\"http://192.168.15.7:4047\">Spark UI</a></p>\n",
              "\n",
              "            <dl>\n",
              "              <dt>Version</dt>\n",
              "                <dd><code>v3.3.2</code></dd>\n",
              "              <dt>Master</dt>\n",
              "                <dd><code>local[*]</code></dd>\n",
              "              <dt>AppName</dt>\n",
              "                <dd><code>Nome do aplicativo</code></dd>\n",
              "            </dl>\n",
              "        </div>\n",
              "        \n",
              "            </div>\n",
              "        "
            ],
            "text/plain": [
              "<pyspark.sql.session.SparkSession at 0x7fbea43f18d0>"
            ]
          },
          "execution_count": 6,
          "metadata": {},
          "output_type": "execute_result"
        }
      ],
      "source": [
        "spark"
      ]
    },
    {
      "cell_type": "code",
      "execution_count": null,
      "metadata": {
        "id": "ZnC2-SSO6uGK"
      },
      "outputs": [],
      "source": [
        "from pyspark.sql.types import *"
      ]
    },
    {
      "cell_type": "code",
      "execution_count": null,
      "metadata": {
        "id": "a9BU63kE6uGK"
      },
      "outputs": [],
      "source": [
        "from pyspark.sql import functions as func"
      ]
    },
    {
      "cell_type": "code",
      "execution_count": null,
      "metadata": {
        "id": "-C5PGbn_6uGL"
      },
      "outputs": [],
      "source": [
        "schema_eletr = \"data STRING, hora STRING, franca STRING, italia STRING, belgica STRING, espanha STRING, reino_un STRING, alemanha STRING\""
      ]
    },
    {
      "cell_type": "code",
      "execution_count": null,
      "metadata": {
        "id": "X3rZH71v6uGL"
      },
      "outputs": [],
      "source": [
        "df_eletricity = spark.read.csv(\"/home/cliente/download/electricity_dah_prices.csv\", header=False, schema=schema_eletr)"
      ]
    },
    {
      "cell_type": "code",
      "execution_count": null,
      "metadata": {
        "id": "IYBpONeJ6uGM",
        "outputId": "a8ba9361-9998-4f80-9ebc-8e88ce4bbb93"
      },
      "outputs": [
        {
          "name": "stdout",
          "output_type": "stream",
          "text": [
            "+----------+-------------+------+------+-------+-------+--------+--------+\n",
            "|      data|         hora|franca|italia|belgica|espanha|reino_un|alemanha|\n",
            "+----------+-------------+------+------+-------+-------+--------+--------+\n",
            "|      date|         hour|france| italy|belgium|  spain|      uk| germany|\n",
            "|2022/01/01|00:00 - 01:00| 89.06|170.28|  82.02| 145.86|    0.27|   50.05|\n",
            "|2022/01/01|01:00 - 02:00| 78.48|155.72|  67.07| 114.90|   -0.01|   41.33|\n",
            "|2022/01/01|02:00 - 03:00| 85.16|147.09|  75.11| 113.87|    0.27|   43.22|\n",
            "|2022/01/01|03:00 - 04:00| 50.00| 91.00|  50.91|  97.80|   -0.01|   45.46|\n",
            "+----------+-------------+------+------+-------+-------+--------+--------+\n",
            "only showing top 5 rows\n",
            "\n"
          ]
        }
      ],
      "source": [
        "df_eletricity.show(5)"
      ]
    },
    {
      "cell_type": "code",
      "execution_count": null,
      "metadata": {
        "id": "cYpE7P6T6uGM",
        "outputId": "ef0fd81c-49e2-46d6-cb40-fc3d320d5c3d"
      },
      "outputs": [
        {
          "name": "stdout",
          "output_type": "stream",
          "text": [
            "+----------+-------------+------+\n",
            "|      data|         hora|franca|\n",
            "+----------+-------------+------+\n",
            "|2022/01/01|01:00 - 02:00| 78.48|\n",
            "|2022/01/01|02:00 - 03:00| 85.16|\n",
            "|2022/01/01|11:00 - 12:00| 84.10|\n",
            "|2022/01/01|23:00 - 00:00| 85.16|\n",
            "|2022/01/05|02:00 - 03:00| 84.50|\n",
            "+----------+-------------+------+\n",
            "only showing top 5 rows\n",
            "\n"
          ]
        }
      ],
      "source": [
        "df_eletricity.select(\"data\", \"hora\", \"franca\").where((func.col(\"franca\") > 78.00) & (func.col(\"franca\") < 88.00)).show(5)"
      ]
    },
    {
      "cell_type": "code",
      "execution_count": null,
      "metadata": {
        "id": "gJgqMhJq6uGN"
      },
      "outputs": [],
      "source": []
    }
  ],
  "metadata": {
    "kernelspec": {
      "display_name": "Python 3",
      "language": "python",
      "name": "python3"
    },
    "language_info": {
      "codemirror_mode": {
        "name": "ipython",
        "version": 3
      },
      "file_extension": ".py",
      "mimetype": "text/x-python",
      "name": "python",
      "nbconvert_exporter": "python",
      "pygments_lexer": "ipython3",
      "version": "3.7.6"
    },
    "colab": {
      "provenance": []
    }
  },
  "nbformat": 4,
  "nbformat_minor": 0
}